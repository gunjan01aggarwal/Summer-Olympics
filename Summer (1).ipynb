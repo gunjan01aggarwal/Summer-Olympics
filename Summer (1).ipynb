{
 "cells": [
  {
   "cell_type": "markdown",
   "metadata": {},
   "source": [
    "# Summer Olympics Data Analysis Assignment"
   ]
  },
  {
   "cell_type": "code",
   "execution_count": 1,
   "metadata": {},
   "outputs": [],
   "source": [
    "import pandas as pd"
   ]
  },
  {
   "cell_type": "code",
   "execution_count": 2,
   "metadata": {},
   "outputs": [],
   "source": [
    "df=pd.read_csv(\"summer.csv\")"
   ]
  },
  {
   "cell_type": "code",
   "execution_count": 3,
   "metadata": {},
   "outputs": [
    {
     "data": {
      "text/html": [
       "<div>\n",
       "<style scoped>\n",
       "    .dataframe tbody tr th:only-of-type {\n",
       "        vertical-align: middle;\n",
       "    }\n",
       "\n",
       "    .dataframe tbody tr th {\n",
       "        vertical-align: top;\n",
       "    }\n",
       "\n",
       "    .dataframe thead th {\n",
       "        text-align: right;\n",
       "    }\n",
       "</style>\n",
       "<table border=\"1\" class=\"dataframe\">\n",
       "  <thead>\n",
       "    <tr style=\"text-align: right;\">\n",
       "      <th></th>\n",
       "      <th>Year</th>\n",
       "      <th>City</th>\n",
       "      <th>Sport</th>\n",
       "      <th>Discipline</th>\n",
       "      <th>Athlete</th>\n",
       "      <th>Country</th>\n",
       "      <th>Gender</th>\n",
       "      <th>Event</th>\n",
       "      <th>Medal</th>\n",
       "    </tr>\n",
       "  </thead>\n",
       "  <tbody>\n",
       "    <tr>\n",
       "      <th>0</th>\n",
       "      <td>1896</td>\n",
       "      <td>Athens</td>\n",
       "      <td>Aquatics</td>\n",
       "      <td>Swimming</td>\n",
       "      <td>HAJOS, Alfred</td>\n",
       "      <td>HUN</td>\n",
       "      <td>Men</td>\n",
       "      <td>100M Freestyle</td>\n",
       "      <td>Gold</td>\n",
       "    </tr>\n",
       "    <tr>\n",
       "      <th>1</th>\n",
       "      <td>1896</td>\n",
       "      <td>Athens</td>\n",
       "      <td>Aquatics</td>\n",
       "      <td>Swimming</td>\n",
       "      <td>HERSCHMANN, Otto</td>\n",
       "      <td>AUT</td>\n",
       "      <td>Men</td>\n",
       "      <td>100M Freestyle</td>\n",
       "      <td>Silver</td>\n",
       "    </tr>\n",
       "    <tr>\n",
       "      <th>2</th>\n",
       "      <td>1896</td>\n",
       "      <td>Athens</td>\n",
       "      <td>Aquatics</td>\n",
       "      <td>Swimming</td>\n",
       "      <td>DRIVAS, Dimitrios</td>\n",
       "      <td>GRE</td>\n",
       "      <td>Men</td>\n",
       "      <td>100M Freestyle For Sailors</td>\n",
       "      <td>Bronze</td>\n",
       "    </tr>\n",
       "    <tr>\n",
       "      <th>3</th>\n",
       "      <td>1896</td>\n",
       "      <td>Athens</td>\n",
       "      <td>Aquatics</td>\n",
       "      <td>Swimming</td>\n",
       "      <td>MALOKINIS, Ioannis</td>\n",
       "      <td>GRE</td>\n",
       "      <td>Men</td>\n",
       "      <td>100M Freestyle For Sailors</td>\n",
       "      <td>Gold</td>\n",
       "    </tr>\n",
       "    <tr>\n",
       "      <th>4</th>\n",
       "      <td>1896</td>\n",
       "      <td>Athens</td>\n",
       "      <td>Aquatics</td>\n",
       "      <td>Swimming</td>\n",
       "      <td>CHASAPIS, Spiridon</td>\n",
       "      <td>GRE</td>\n",
       "      <td>Men</td>\n",
       "      <td>100M Freestyle For Sailors</td>\n",
       "      <td>Silver</td>\n",
       "    </tr>\n",
       "  </tbody>\n",
       "</table>\n",
       "</div>"
      ],
      "text/plain": [
       "   Year    City     Sport Discipline             Athlete Country Gender  \\\n",
       "0  1896  Athens  Aquatics   Swimming       HAJOS, Alfred     HUN    Men   \n",
       "1  1896  Athens  Aquatics   Swimming    HERSCHMANN, Otto     AUT    Men   \n",
       "2  1896  Athens  Aquatics   Swimming   DRIVAS, Dimitrios     GRE    Men   \n",
       "3  1896  Athens  Aquatics   Swimming  MALOKINIS, Ioannis     GRE    Men   \n",
       "4  1896  Athens  Aquatics   Swimming  CHASAPIS, Spiridon     GRE    Men   \n",
       "\n",
       "                        Event   Medal  \n",
       "0              100M Freestyle    Gold  \n",
       "1              100M Freestyle  Silver  \n",
       "2  100M Freestyle For Sailors  Bronze  \n",
       "3  100M Freestyle For Sailors    Gold  \n",
       "4  100M Freestyle For Sailors  Silver  "
      ]
     },
     "execution_count": 3,
     "metadata": {},
     "output_type": "execute_result"
    }
   ],
   "source": [
    "df.head()"
   ]
  },
  {
   "cell_type": "code",
   "execution_count": 4,
   "metadata": {},
   "outputs": [
    {
     "data": {
      "text/plain": [
       "Year          0\n",
       "City          0\n",
       "Sport         0\n",
       "Discipline    0\n",
       "Athlete       0\n",
       "Country       4\n",
       "Gender        0\n",
       "Event         0\n",
       "Medal         0\n",
       "dtype: int64"
      ]
     },
     "execution_count": 4,
     "metadata": {},
     "output_type": "execute_result"
    }
   ],
   "source": [
    "df.isnull().sum()"
   ]
  },
  {
   "cell_type": "code",
   "execution_count": 5,
   "metadata": {},
   "outputs": [
    {
     "data": {
      "text/plain": [
       "(31165, 9)"
      ]
     },
     "execution_count": 5,
     "metadata": {},
     "output_type": "execute_result"
    }
   ],
   "source": [
    "df.shape"
   ]
  },
  {
   "cell_type": "code",
   "execution_count": 6,
   "metadata": {},
   "outputs": [
    {
     "data": {
      "text/plain": [
       "array(['HAJOS, Alfred', 'HERSCHMANN, Otto', 'DRIVAS, Dimitrios', ...,\n",
       "       'TOTROV, Rustam', 'ALEKSANYAN, Artur', 'LIDBERG, Jimmy'],\n",
       "      dtype=object)"
      ]
     },
     "execution_count": 6,
     "metadata": {},
     "output_type": "execute_result"
    }
   ],
   "source": [
    "df[\"Athlete\"].unique()"
   ]
  },
  {
   "cell_type": "code",
   "execution_count": 7,
   "metadata": {},
   "outputs": [
    {
     "data": {
      "text/html": [
       "<div>\n",
       "<style scoped>\n",
       "    .dataframe tbody tr th:only-of-type {\n",
       "        vertical-align: middle;\n",
       "    }\n",
       "\n",
       "    .dataframe tbody tr th {\n",
       "        vertical-align: top;\n",
       "    }\n",
       "\n",
       "    .dataframe thead th {\n",
       "        text-align: right;\n",
       "    }\n",
       "</style>\n",
       "<table border=\"1\" class=\"dataframe\">\n",
       "  <thead>\n",
       "    <tr style=\"text-align: right;\">\n",
       "      <th></th>\n",
       "      <th>Year</th>\n",
       "      <th>City</th>\n",
       "      <th>Sport</th>\n",
       "      <th>Discipline</th>\n",
       "      <th>Athlete</th>\n",
       "      <th>Country</th>\n",
       "      <th>Gender</th>\n",
       "      <th>Event</th>\n",
       "      <th>Medal</th>\n",
       "    </tr>\n",
       "  </thead>\n",
       "  <tbody>\n",
       "    <tr>\n",
       "      <th>29603</th>\n",
       "      <td>2012</td>\n",
       "      <td>London</td>\n",
       "      <td>Athletics</td>\n",
       "      <td>Athletics</td>\n",
       "      <td>Pending</td>\n",
       "      <td>NaN</td>\n",
       "      <td>Women</td>\n",
       "      <td>1500M</td>\n",
       "      <td>Gold</td>\n",
       "    </tr>\n",
       "    <tr>\n",
       "      <th>31072</th>\n",
       "      <td>2012</td>\n",
       "      <td>London</td>\n",
       "      <td>Weightlifting</td>\n",
       "      <td>Weightlifting</td>\n",
       "      <td>Pending</td>\n",
       "      <td>NaN</td>\n",
       "      <td>Women</td>\n",
       "      <td>63KG</td>\n",
       "      <td>Gold</td>\n",
       "    </tr>\n",
       "    <tr>\n",
       "      <th>31091</th>\n",
       "      <td>2012</td>\n",
       "      <td>London</td>\n",
       "      <td>Weightlifting</td>\n",
       "      <td>Weightlifting</td>\n",
       "      <td>Pending</td>\n",
       "      <td>NaN</td>\n",
       "      <td>Men</td>\n",
       "      <td>94KG</td>\n",
       "      <td>Silver</td>\n",
       "    </tr>\n",
       "    <tr>\n",
       "      <th>31110</th>\n",
       "      <td>2012</td>\n",
       "      <td>London</td>\n",
       "      <td>Wrestling</td>\n",
       "      <td>Wrestling Freestyle</td>\n",
       "      <td>KUDUKHOV, Besik</td>\n",
       "      <td>NaN</td>\n",
       "      <td>Men</td>\n",
       "      <td>Wf 60 KG</td>\n",
       "      <td>Silver</td>\n",
       "    </tr>\n",
       "  </tbody>\n",
       "</table>\n",
       "</div>"
      ],
      "text/plain": [
       "       Year    City          Sport           Discipline          Athlete  \\\n",
       "29603  2012  London      Athletics            Athletics          Pending   \n",
       "31072  2012  London  Weightlifting        Weightlifting          Pending   \n",
       "31091  2012  London  Weightlifting        Weightlifting          Pending   \n",
       "31110  2012  London      Wrestling  Wrestling Freestyle  KUDUKHOV, Besik   \n",
       "\n",
       "      Country Gender     Event   Medal  \n",
       "29603     NaN  Women     1500M    Gold  \n",
       "31072     NaN  Women      63KG    Gold  \n",
       "31091     NaN    Men      94KG  Silver  \n",
       "31110     NaN    Men  Wf 60 KG  Silver  "
      ]
     },
     "execution_count": 7,
     "metadata": {},
     "output_type": "execute_result"
    }
   ],
   "source": [
    " df[df[\"Country\"].isnull()]"
   ]
  },
  {
   "cell_type": "code",
   "execution_count": 8,
   "metadata": {},
   "outputs": [
    {
     "data": {
      "text/plain": [
       "4"
      ]
     },
     "execution_count": 8,
     "metadata": {},
     "output_type": "execute_result"
    }
   ],
   "source": [
    "df[\"Country\"].isnull().sum()"
   ]
  },
  {
   "cell_type": "code",
   "execution_count": 9,
   "metadata": {},
   "outputs": [
    {
     "data": {
      "text/plain": [
       "31165"
      ]
     },
     "execution_count": 9,
     "metadata": {},
     "output_type": "execute_result"
    }
   ],
   "source": [
    "len(df)"
   ]
  },
  {
   "cell_type": "code",
   "execution_count": 10,
   "metadata": {},
   "outputs": [
    {
     "data": {
      "text/plain": [
       "array(['Aquatics', 'Athletics', 'Cycling', 'Fencing', 'Gymnastics',\n",
       "       'Shooting', 'Tennis', 'Weightlifting', 'Wrestling', 'Archery',\n",
       "       'Basque Pelota', 'Cricket', 'Croquet', 'Equestrian', 'Football',\n",
       "       'Golf', 'Polo', 'Rowing', 'Rugby', 'Sailing', 'Tug of War',\n",
       "       'Boxing', 'Lacrosse', 'Roque', 'Hockey', 'Jeu de paume', 'Rackets',\n",
       "       'Skating', 'Water Motorsports', 'Modern Pentathlon', 'Ice Hockey',\n",
       "       'Basketball', 'Canoe / Kayak', 'Handball', 'Judo', 'Volleyball',\n",
       "       'Table Tennis', 'Badminton', 'Baseball', 'Softball', 'Taekwondo',\n",
       "       'Triathlon', 'Canoe'], dtype=object)"
      ]
     },
     "execution_count": 10,
     "metadata": {},
     "output_type": "execute_result"
    }
   ],
   "source": [
    "df.Sport.unique()"
   ]
  },
  {
   "cell_type": "markdown",
   "metadata": {},
   "source": [
    "### 1. In how many cities Summer Olympics is held so far?"
   ]
  },
  {
   "cell_type": "code",
   "execution_count": 11,
   "metadata": {},
   "outputs": [
    {
     "data": {
      "text/plain": [
       "0                    Athens\n",
       "1                     Paris\n",
       "2                  St Louis\n",
       "3                    London\n",
       "4                 Stockholm\n",
       "5                   Antwerp\n",
       "6                 Amsterdam\n",
       "7               Los Angeles\n",
       "8                    Berlin\n",
       "9                  Helsinki\n",
       "10    Melbourne / Stockholm\n",
       "11                     Rome\n",
       "12                    Tokyo\n",
       "13                   Mexico\n",
       "14                   Munich\n",
       "15                 Montreal\n",
       "16                   Moscow\n",
       "17                    Seoul\n",
       "18                Barcelona\n",
       "19                  Atlanta\n",
       "20                   Sydney\n",
       "21                  Beijing\n",
       "Name: Cities, dtype: object"
      ]
     },
     "execution_count": 11,
     "metadata": {},
     "output_type": "execute_result"
    }
   ],
   "source": [
    "df_=pd.Series(df.City.unique(),name=\"Cities\")\n",
    "df_"
   ]
  },
  {
   "cell_type": "markdown",
   "metadata": {},
   "source": [
    "### 2. Which sport is having most number of Gold Medals so far? (Top 5)"
   ]
  },
  {
   "cell_type": "code",
   "execution_count": 12,
   "metadata": {},
   "outputs": [
    {
     "data": {
      "text/html": [
       "<div>\n",
       "<style scoped>\n",
       "    .dataframe tbody tr th:only-of-type {\n",
       "        vertical-align: middle;\n",
       "    }\n",
       "\n",
       "    .dataframe tbody tr th {\n",
       "        vertical-align: top;\n",
       "    }\n",
       "\n",
       "    .dataframe thead th {\n",
       "        text-align: right;\n",
       "    }\n",
       "</style>\n",
       "<table border=\"1\" class=\"dataframe\">\n",
       "  <thead>\n",
       "    <tr style=\"text-align: right;\">\n",
       "      <th></th>\n",
       "      <th>Year</th>\n",
       "      <th>City</th>\n",
       "      <th>Sport</th>\n",
       "      <th>Discipline</th>\n",
       "      <th>Athlete</th>\n",
       "      <th>Country</th>\n",
       "      <th>Gender</th>\n",
       "      <th>Event</th>\n",
       "      <th>Medal</th>\n",
       "    </tr>\n",
       "  </thead>\n",
       "  <tbody>\n",
       "    <tr>\n",
       "      <th>0</th>\n",
       "      <td>1896</td>\n",
       "      <td>Athens</td>\n",
       "      <td>Aquatics</td>\n",
       "      <td>Swimming</td>\n",
       "      <td>HAJOS, Alfred</td>\n",
       "      <td>HUN</td>\n",
       "      <td>Men</td>\n",
       "      <td>100M Freestyle</td>\n",
       "      <td>Gold</td>\n",
       "    </tr>\n",
       "    <tr>\n",
       "      <th>3</th>\n",
       "      <td>1896</td>\n",
       "      <td>Athens</td>\n",
       "      <td>Aquatics</td>\n",
       "      <td>Swimming</td>\n",
       "      <td>MALOKINIS, Ioannis</td>\n",
       "      <td>GRE</td>\n",
       "      <td>Men</td>\n",
       "      <td>100M Freestyle For Sailors</td>\n",
       "      <td>Gold</td>\n",
       "    </tr>\n",
       "    <tr>\n",
       "      <th>6</th>\n",
       "      <td>1896</td>\n",
       "      <td>Athens</td>\n",
       "      <td>Aquatics</td>\n",
       "      <td>Swimming</td>\n",
       "      <td>HAJOS, Alfred</td>\n",
       "      <td>HUN</td>\n",
       "      <td>Men</td>\n",
       "      <td>1200M Freestyle</td>\n",
       "      <td>Gold</td>\n",
       "    </tr>\n",
       "    <tr>\n",
       "      <th>9</th>\n",
       "      <td>1896</td>\n",
       "      <td>Athens</td>\n",
       "      <td>Aquatics</td>\n",
       "      <td>Swimming</td>\n",
       "      <td>NEUMANN, Paul</td>\n",
       "      <td>AUT</td>\n",
       "      <td>Men</td>\n",
       "      <td>400M Freestyle</td>\n",
       "      <td>Gold</td>\n",
       "    </tr>\n",
       "    <tr>\n",
       "      <th>13</th>\n",
       "      <td>1896</td>\n",
       "      <td>Athens</td>\n",
       "      <td>Athletics</td>\n",
       "      <td>Athletics</td>\n",
       "      <td>BURKE, Thomas</td>\n",
       "      <td>USA</td>\n",
       "      <td>Men</td>\n",
       "      <td>100M</td>\n",
       "      <td>Gold</td>\n",
       "    </tr>\n",
       "  </tbody>\n",
       "</table>\n",
       "</div>"
      ],
      "text/plain": [
       "    Year    City      Sport Discipline             Athlete Country Gender  \\\n",
       "0   1896  Athens   Aquatics   Swimming       HAJOS, Alfred     HUN    Men   \n",
       "3   1896  Athens   Aquatics   Swimming  MALOKINIS, Ioannis     GRE    Men   \n",
       "6   1896  Athens   Aquatics   Swimming       HAJOS, Alfred     HUN    Men   \n",
       "9   1896  Athens   Aquatics   Swimming       NEUMANN, Paul     AUT    Men   \n",
       "13  1896  Athens  Athletics  Athletics       BURKE, Thomas     USA    Men   \n",
       "\n",
       "                         Event Medal  \n",
       "0               100M Freestyle  Gold  \n",
       "3   100M Freestyle For Sailors  Gold  \n",
       "6              1200M Freestyle  Gold  \n",
       "9               400M Freestyle  Gold  \n",
       "13                        100M  Gold  "
      ]
     },
     "execution_count": 12,
     "metadata": {},
     "output_type": "execute_result"
    }
   ],
   "source": [
    "data=df[df[\"Medal\"]==\"Gold\"]\n",
    "data.head()"
   ]
  },
  {
   "cell_type": "code",
   "execution_count": 14,
   "metadata": {},
   "outputs": [
    {
     "data": {
      "text/plain": [
       "<matplotlib.axes._subplots.AxesSubplot at 0x14a15f63208>"
      ]
     },
     "execution_count": 14,
     "metadata": {},
     "output_type": "execute_result"
    },
    {
     "data": {
      "image/png": "[encoded data removed]",
      "text/plain": [
       "<Figure size 432x288 with 1 Axes>"
      ]
     },
     "metadata": {
      "needs_background": "light"
     },
     "output_type": "display_data"
    }
   ],
   "source": [
    "DF=pd.DataFrame(data.groupby(\"Sport\")[\"Medal\"].count())\n",
    "DF.columns=[\"No._Of_Gold_Medal\"]\n",
    "DF.sort_values(by=\"No._Of_Gold_Medal\",ascending=False).head().plot(kind=\"bar\")"
   ]
  },
  {
   "cell_type": "markdown",
   "metadata": {},
   "source": [
    "### 3. Which sport is having most number of medals so far? (Top 5)"
   ]
  },
  {
   "cell_type": "code",
   "execution_count": 15,
   "metadata": {},
   "outputs": [
    {
     "data": {
      "text/plain": [
       "<matplotlib.axes._subplots.AxesSubplot at 0x14a15ff7ac8>"
      ]
     },
     "execution_count": 15,
     "metadata": {},
     "output_type": "execute_result"
    },
    {
     "data": {
      "image/png": "[encoded data removed]",
      "text/plain": [
       "<Figure size 432x288 with 1 Axes>"
      ]
     },
     "metadata": {
      "needs_background": "light"
     },
     "output_type": "display_data"
    }
   ],
   "source": [
    "df1=pd.DataFrame(df.groupby(\"Sport\")[\"Medal\"].count())\n",
    "df1.columns=[\"Medals\"]\n",
    "df1.sort_values(by=\"Medals\",ascending=False).head().plot(kind=\"bar\")"
   ]
  },
  {
   "cell_type": "code",
   "execution_count": 16,
   "metadata": {},
   "outputs": [
    {
     "data": {
      "text/html": [
       "<div>\n",
       "<style scoped>\n",
       "    .dataframe tbody tr th:only-of-type {\n",
       "        vertical-align: middle;\n",
       "    }\n",
       "\n",
       "    .dataframe tbody tr th {\n",
       "        vertical-align: top;\n",
       "    }\n",
       "\n",
       "    .dataframe thead th {\n",
       "        text-align: right;\n",
       "    }\n",
       "</style>\n",
       "<table border=\"1\" class=\"dataframe\">\n",
       "  <thead>\n",
       "    <tr style=\"text-align: right;\">\n",
       "      <th></th>\n",
       "      <th>Medals</th>\n",
       "    </tr>\n",
       "    <tr>\n",
       "      <th>Sport</th>\n",
       "      <th></th>\n",
       "    </tr>\n",
       "  </thead>\n",
       "  <tbody>\n",
       "    <tr>\n",
       "      <th>Aquatics</th>\n",
       "      <td>4170</td>\n",
       "    </tr>\n",
       "    <tr>\n",
       "      <th>Athletics</th>\n",
       "      <td>3638</td>\n",
       "    </tr>\n",
       "    <tr>\n",
       "      <th>Rowing</th>\n",
       "      <td>2667</td>\n",
       "    </tr>\n",
       "    <tr>\n",
       "      <th>Gymnastics</th>\n",
       "      <td>2307</td>\n",
       "    </tr>\n",
       "    <tr>\n",
       "      <th>Fencing</th>\n",
       "      <td>1613</td>\n",
       "    </tr>\n",
       "  </tbody>\n",
       "</table>\n",
       "</div>"
      ],
      "text/plain": [
       "            Medals\n",
       "Sport             \n",
       "Aquatics      4170\n",
       "Athletics     3638\n",
       "Rowing        2667\n",
       "Gymnastics    2307\n",
       "Fencing       1613"
      ]
     },
     "execution_count": 16,
     "metadata": {},
     "output_type": "execute_result"
    }
   ],
   "source": [
    "df1.sort_values(by=\"Medals\",ascending=False).head()"
   ]
  },
  {
   "cell_type": "markdown",
   "metadata": {},
   "source": [
    "### 4. Which player has won most number of medals? (Top 5)"
   ]
  },
  {
   "cell_type": "code",
   "execution_count": 17,
   "metadata": {},
   "outputs": [
    {
     "data": {
      "text/plain": [
       "<matplotlib.axes._subplots.AxesSubplot at 0x14a15ff18c8>"
      ]
     },
     "execution_count": 17,
     "metadata": {},
     "output_type": "execute_result"
    },
    {
     "data": {
      "image/png": "[encoded data removed]",
      "text/plain": [
       "<Figure size 360x216 with 1 Axes>"
      ]
     },
     "metadata": {
      "needs_background": "light"
     },
     "output_type": "display_data"
    }
   ],
   "source": [
    "df3=pd.DataFrame(df.groupby(\"Athlete\")[\"Medal\"].count())\n",
    "df3.columns=[\"Number of Medals\"]\n",
    "df3.sort_values(by=\"Number of Medals\",ascending=False).head().plot.bar(figsize=(5,3))"
   ]
  },
  {
   "cell_type": "markdown",
   "metadata": {},
   "source": [
    "### 5. Which player has won most number Gold Medals of medals? (Top 5)"
   ]
  },
  {
   "cell_type": "code",
   "execution_count": 18,
   "metadata": {},
   "outputs": [
    {
     "data": {
      "text/plain": [
       "<matplotlib.axes._subplots.AxesSubplot at 0x14a160dbec8>"
      ]
     },
     "execution_count": 18,
     "metadata": {},
     "output_type": "execute_result"
    },
    {
     "data": {
      "image/png": "[encoded data removed]",
      "text/plain": [
       "<Figure size 432x288 with 1 Axes>"
      ]
     },
     "metadata": {
      "needs_background": "light"
     },
     "output_type": "display_data"
    }
   ],
   "source": [
    "x=pd.DataFrame(data.groupby(\"Athlete\")[\"Medal\"].count())\n",
    "x.columns=[\"No._Of_Gold_Medal\"]\n",
    "x.sort_values(by=\"No._Of_Gold_Medal\",ascending=False).head().plot(kind='bar')"
   ]
  },
  {
   "cell_type": "code",
   "execution_count": 19,
   "metadata": {},
   "outputs": [
    {
     "data": {
      "text/html": [
       "<div>\n",
       "<style scoped>\n",
       "    .dataframe tbody tr th:only-of-type {\n",
       "        vertical-align: middle;\n",
       "    }\n",
       "\n",
       "    .dataframe tbody tr th {\n",
       "        vertical-align: top;\n",
       "    }\n",
       "\n",
       "    .dataframe thead th {\n",
       "        text-align: right;\n",
       "    }\n",
       "</style>\n",
       "<table border=\"1\" class=\"dataframe\">\n",
       "  <thead>\n",
       "    <tr style=\"text-align: right;\">\n",
       "      <th></th>\n",
       "      <th>No._Of_Gold_Medal</th>\n",
       "    </tr>\n",
       "    <tr>\n",
       "      <th>Athlete</th>\n",
       "      <th></th>\n",
       "    </tr>\n",
       "  </thead>\n",
       "  <tbody>\n",
       "    <tr>\n",
       "      <th>PHELPS, Michael</th>\n",
       "      <td>18</td>\n",
       "    </tr>\n",
       "    <tr>\n",
       "      <th>LEWIS, Carl</th>\n",
       "      <td>9</td>\n",
       "    </tr>\n",
       "    <tr>\n",
       "      <th>NURMI, Paavo</th>\n",
       "      <td>9</td>\n",
       "    </tr>\n",
       "    <tr>\n",
       "      <th>SPITZ, Mark</th>\n",
       "      <td>9</td>\n",
       "    </tr>\n",
       "    <tr>\n",
       "      <th>LATYNINA, Larisa</th>\n",
       "      <td>9</td>\n",
       "    </tr>\n",
       "  </tbody>\n",
       "</table>\n",
       "</div>"
      ],
      "text/plain": [
       "                  No._Of_Gold_Medal\n",
       "Athlete                            \n",
       "PHELPS, Michael                  18\n",
       "LEWIS, Carl                       9\n",
       "NURMI, Paavo                      9\n",
       "SPITZ, Mark                       9\n",
       "LATYNINA, Larisa                  9"
      ]
     },
     "execution_count": 19,
     "metadata": {},
     "output_type": "execute_result"
    }
   ],
   "source": [
    "x.sort_values(by=\"No._Of_Gold_Medal\",ascending=False).head()"
   ]
  },
  {
   "cell_type": "markdown",
   "metadata": {},
   "source": [
    "### 6. In which year India won first Gold Medal in Summer Olympics?"
   ]
  },
  {
   "cell_type": "code",
   "execution_count": 20,
   "metadata": {},
   "outputs": [
    {
     "data": {
      "text/html": [
       "<div>\n",
       "<style scoped>\n",
       "    .dataframe tbody tr th:only-of-type {\n",
       "        vertical-align: middle;\n",
       "    }\n",
       "\n",
       "    .dataframe tbody tr th {\n",
       "        vertical-align: top;\n",
       "    }\n",
       "\n",
       "    .dataframe thead th {\n",
       "        text-align: right;\n",
       "    }\n",
       "</style>\n",
       "<table border=\"1\" class=\"dataframe\">\n",
       "  <thead>\n",
       "    <tr style=\"text-align: right;\">\n",
       "      <th></th>\n",
       "      <th>Year</th>\n",
       "      <th>City</th>\n",
       "      <th>Sport</th>\n",
       "      <th>Discipline</th>\n",
       "      <th>Athlete</th>\n",
       "      <th>Country</th>\n",
       "      <th>Gender</th>\n",
       "      <th>Event</th>\n",
       "      <th>Medal</th>\n",
       "    </tr>\n",
       "  </thead>\n",
       "  <tbody>\n",
       "    <tr>\n",
       "      <th>5512</th>\n",
       "      <td>1928</td>\n",
       "      <td>Amsterdam</td>\n",
       "      <td>Hockey</td>\n",
       "      <td>Hockey</td>\n",
       "      <td>ALLEN, Richard James</td>\n",
       "      <td>IND</td>\n",
       "      <td>Men</td>\n",
       "      <td>Hockey</td>\n",
       "      <td>Gold</td>\n",
       "    </tr>\n",
       "    <tr>\n",
       "      <th>5513</th>\n",
       "      <td>1928</td>\n",
       "      <td>Amsterdam</td>\n",
       "      <td>Hockey</td>\n",
       "      <td>Hockey</td>\n",
       "      <td>CHAND, Dyan</td>\n",
       "      <td>IND</td>\n",
       "      <td>Men</td>\n",
       "      <td>Hockey</td>\n",
       "      <td>Gold</td>\n",
       "    </tr>\n",
       "    <tr>\n",
       "      <th>5514</th>\n",
       "      <td>1928</td>\n",
       "      <td>Amsterdam</td>\n",
       "      <td>Hockey</td>\n",
       "      <td>Hockey</td>\n",
       "      <td>GATELEY, Maurice A.</td>\n",
       "      <td>IND</td>\n",
       "      <td>Men</td>\n",
       "      <td>Hockey</td>\n",
       "      <td>Gold</td>\n",
       "    </tr>\n",
       "    <tr>\n",
       "      <th>5515</th>\n",
       "      <td>1928</td>\n",
       "      <td>Amsterdam</td>\n",
       "      <td>Hockey</td>\n",
       "      <td>Hockey</td>\n",
       "      <td>GILL, K. S.</td>\n",
       "      <td>IND</td>\n",
       "      <td>Men</td>\n",
       "      <td>Hockey</td>\n",
       "      <td>Gold</td>\n",
       "    </tr>\n",
       "    <tr>\n",
       "      <th>5516</th>\n",
       "      <td>1928</td>\n",
       "      <td>Amsterdam</td>\n",
       "      <td>Hockey</td>\n",
       "      <td>Hockey</td>\n",
       "      <td>GOODSIR-CULLEN, William John</td>\n",
       "      <td>IND</td>\n",
       "      <td>Men</td>\n",
       "      <td>Hockey</td>\n",
       "      <td>Gold</td>\n",
       "    </tr>\n",
       "  </tbody>\n",
       "</table>\n",
       "</div>"
      ],
      "text/plain": [
       "      Year       City   Sport Discipline                       Athlete  \\\n",
       "5512  1928  Amsterdam  Hockey     Hockey          ALLEN, Richard James   \n",
       "5513  1928  Amsterdam  Hockey     Hockey                   CHAND, Dyan   \n",
       "5514  1928  Amsterdam  Hockey     Hockey           GATELEY, Maurice A.   \n",
       "5515  1928  Amsterdam  Hockey     Hockey                   GILL, K. S.   \n",
       "5516  1928  Amsterdam  Hockey     Hockey  GOODSIR-CULLEN, William John   \n",
       "\n",
       "     Country Gender   Event Medal  \n",
       "5512     IND    Men  Hockey  Gold  \n",
       "5513     IND    Men  Hockey  Gold  \n",
       "5514     IND    Men  Hockey  Gold  \n",
       "5515     IND    Men  Hockey  Gold  \n",
       "5516     IND    Men  Hockey  Gold  "
      ]
     },
     "execution_count": 20,
     "metadata": {},
     "output_type": "execute_result"
    }
   ],
   "source": [
    "f=data[data[\"Country\"]==\"IND\"]\n",
    "f.head()"
   ]
  },
  {
   "cell_type": "code",
   "execution_count": 21,
   "metadata": {},
   "outputs": [
    {
     "data": {
      "text/plain": [
       "Country\n",
       "IND    1928\n",
       "Name: Year, dtype: int64"
      ]
     },
     "execution_count": 21,
     "metadata": {},
     "output_type": "execute_result"
    }
   ],
   "source": [
    "f.groupby(\"Country\")[\"Year\"].min()\n"
   ]
  },
  {
   "cell_type": "markdown",
   "metadata": {},
   "source": [
    "### 7. Which event is most popular in terms on number of players? (Top 5)"
   ]
  },
  {
   "cell_type": "code",
   "execution_count": 22,
   "metadata": {},
   "outputs": [],
   "source": [
    "lst=[]\n",
    "for event in df[\"Event\"].unique():\n",
    "    lst.append([event,len(df[df[\"Event\"]==event])])"
   ]
  },
  {
   "cell_type": "code",
   "execution_count": 23,
   "metadata": {},
   "outputs": [
    {
     "data": {
      "text/plain": [
       "<matplotlib.axes._subplots.AxesSubplot at 0x14a1615c948>"
      ]
     },
     "execution_count": 23,
     "metadata": {},
     "output_type": "execute_result"
    },
    {
     "data": {
      "image/png": "[encoded data removed]",
      "text/plain": [
       "<Figure size 432x288 with 1 Axes>"
      ]
     },
     "metadata": {
      "needs_background": "light"
     },
     "output_type": "display_data"
    }
   ],
   "source": [
    "df2=pd.DataFrame(lst,columns=[\"Event\",\"No. of Players\"])\n",
    "df2.sort_values(by=\"No. of Players\",ascending=False).head().plot(x=\"Event\",y=\"No. of Players\",kind=\"bar\")"
   ]
  },
  {
   "cell_type": "code",
   "execution_count": 24,
   "metadata": {},
   "outputs": [
    {
     "data": {
      "text/html": [
       "<div>\n",
       "<style scoped>\n",
       "    .dataframe tbody tr th:only-of-type {\n",
       "        vertical-align: middle;\n",
       "    }\n",
       "\n",
       "    .dataframe tbody tr th {\n",
       "        vertical-align: top;\n",
       "    }\n",
       "\n",
       "    .dataframe thead th {\n",
       "        text-align: right;\n",
       "    }\n",
       "</style>\n",
       "<table border=\"1\" class=\"dataframe\">\n",
       "  <thead>\n",
       "    <tr style=\"text-align: right;\">\n",
       "      <th></th>\n",
       "      <th>Event</th>\n",
       "      <th>No. of Players</th>\n",
       "    </tr>\n",
       "  </thead>\n",
       "  <tbody>\n",
       "    <tr>\n",
       "      <th>80</th>\n",
       "      <td>Football</td>\n",
       "      <td>1497</td>\n",
       "    </tr>\n",
       "    <tr>\n",
       "      <th>176</th>\n",
       "      <td>Hockey</td>\n",
       "      <td>1422</td>\n",
       "    </tr>\n",
       "    <tr>\n",
       "      <th>138</th>\n",
       "      <td>Team Competition</td>\n",
       "      <td>1147</td>\n",
       "    </tr>\n",
       "    <tr>\n",
       "      <th>327</th>\n",
       "      <td>Basketball</td>\n",
       "      <td>1012</td>\n",
       "    </tr>\n",
       "    <tr>\n",
       "      <th>337</th>\n",
       "      <td>Handball</td>\n",
       "      <td>973</td>\n",
       "    </tr>\n",
       "  </tbody>\n",
       "</table>\n",
       "</div>"
      ],
      "text/plain": [
       "                Event  No. of Players\n",
       "80           Football            1497\n",
       "176            Hockey            1422\n",
       "138  Team Competition            1147\n",
       "327        Basketball            1012\n",
       "337          Handball             973"
      ]
     },
     "execution_count": 24,
     "metadata": {},
     "output_type": "execute_result"
    }
   ],
   "source": [
    "df2.sort_values(by=\"No. of Players\",ascending=False).head()"
   ]
  },
  {
   "cell_type": "markdown",
   "metadata": {},
   "source": [
    "### 8. Which sport is having most female Gold Medalists? (Top 5)"
   ]
  },
  {
   "cell_type": "code",
   "execution_count": 25,
   "metadata": {},
   "outputs": [
    {
     "data": {
      "text/html": [
       "<div>\n",
       "<style scoped>\n",
       "    .dataframe tbody tr th:only-of-type {\n",
       "        vertical-align: middle;\n",
       "    }\n",
       "\n",
       "    .dataframe tbody tr th {\n",
       "        vertical-align: top;\n",
       "    }\n",
       "\n",
       "    .dataframe thead th {\n",
       "        text-align: right;\n",
       "    }\n",
       "</style>\n",
       "<table border=\"1\" class=\"dataframe\">\n",
       "  <thead>\n",
       "    <tr style=\"text-align: right;\">\n",
       "      <th></th>\n",
       "      <th>Year</th>\n",
       "      <th>City</th>\n",
       "      <th>Sport</th>\n",
       "      <th>Discipline</th>\n",
       "      <th>Athlete</th>\n",
       "      <th>Country</th>\n",
       "      <th>Gender</th>\n",
       "      <th>Event</th>\n",
       "      <th>Medal</th>\n",
       "    </tr>\n",
       "  </thead>\n",
       "  <tbody>\n",
       "    <tr>\n",
       "      <th>417</th>\n",
       "      <td>1900</td>\n",
       "      <td>Paris</td>\n",
       "      <td>Golf</td>\n",
       "      <td>Golf</td>\n",
       "      <td>ABBOTT, Margaret Ives</td>\n",
       "      <td>USA</td>\n",
       "      <td>Women</td>\n",
       "      <td>Individual</td>\n",
       "      <td>Gold</td>\n",
       "    </tr>\n",
       "    <tr>\n",
       "      <th>641</th>\n",
       "      <td>1900</td>\n",
       "      <td>Paris</td>\n",
       "      <td>Tennis</td>\n",
       "      <td>Tennis</td>\n",
       "      <td>COOPER, Charlotte</td>\n",
       "      <td>GBR</td>\n",
       "      <td>Women</td>\n",
       "      <td>Mixed Doubles</td>\n",
       "      <td>Gold</td>\n",
       "    </tr>\n",
       "    <tr>\n",
       "      <th>649</th>\n",
       "      <td>1900</td>\n",
       "      <td>Paris</td>\n",
       "      <td>Tennis</td>\n",
       "      <td>Tennis</td>\n",
       "      <td>COOPER, Charlotte</td>\n",
       "      <td>GBR</td>\n",
       "      <td>Women</td>\n",
       "      <td>Singles</td>\n",
       "      <td>Gold</td>\n",
       "    </tr>\n",
       "    <tr>\n",
       "      <th>710</th>\n",
       "      <td>1904</td>\n",
       "      <td>St Louis</td>\n",
       "      <td>Archery</td>\n",
       "      <td>Archery</td>\n",
       "      <td>HOWELL, Matilda Scott</td>\n",
       "      <td>USA</td>\n",
       "      <td>Women</td>\n",
       "      <td>Double Columbia Round (50Y - 40Y - 30Y)</td>\n",
       "      <td>Gold</td>\n",
       "    </tr>\n",
       "    <tr>\n",
       "      <th>713</th>\n",
       "      <td>1904</td>\n",
       "      <td>St Louis</td>\n",
       "      <td>Archery</td>\n",
       "      <td>Archery</td>\n",
       "      <td>HOWELL, Matilda Scott</td>\n",
       "      <td>USA</td>\n",
       "      <td>Women</td>\n",
       "      <td>Double National Round (60Y - 50Y)</td>\n",
       "      <td>Gold</td>\n",
       "    </tr>\n",
       "  </tbody>\n",
       "</table>\n",
       "</div>"
      ],
      "text/plain": [
       "     Year      City    Sport Discipline                Athlete Country Gender  \\\n",
       "417  1900     Paris     Golf       Golf  ABBOTT, Margaret Ives     USA  Women   \n",
       "641  1900     Paris   Tennis     Tennis      COOPER, Charlotte     GBR  Women   \n",
       "649  1900     Paris   Tennis     Tennis      COOPER, Charlotte     GBR  Women   \n",
       "710  1904  St Louis  Archery    Archery  HOWELL, Matilda Scott     USA  Women   \n",
       "713  1904  St Louis  Archery    Archery  HOWELL, Matilda Scott     USA  Women   \n",
       "\n",
       "                                       Event Medal  \n",
       "417                               Individual  Gold  \n",
       "641                            Mixed Doubles  Gold  \n",
       "649                                  Singles  Gold  \n",
       "710  Double Columbia Round (50Y - 40Y - 30Y)  Gold  \n",
       "713        Double National Round (60Y - 50Y)  Gold  "
      ]
     },
     "execution_count": 25,
     "metadata": {},
     "output_type": "execute_result"
    }
   ],
   "source": [
    "d=data[data[\"Gender\"]==\"Women\"]\n",
    "d.head()"
   ]
  },
  {
   "cell_type": "code",
   "execution_count": 26,
   "metadata": {},
   "outputs": [
    {
     "data": {
      "text/plain": [
       "<matplotlib.axes._subplots.AxesSubplot at 0x14a171d2e88>"
      ]
     },
     "execution_count": 26,
     "metadata": {},
     "output_type": "execute_result"
    },
    {
     "data": {
      "image/png": "[encoded data removed]",
      "text/plain": [
       "<Figure size 432x288 with 1 Axes>"
      ]
     },
     "metadata": {
      "needs_background": "light"
     },
     "output_type": "display_data"
    }
   ],
   "source": [
    "pd.DataFrame(d.groupby(\"Sport\")[\"Medal\"].count()).sort_values(by=\"Medal\",ascending=False).head().plot.bar()"
   ]
  },
  {
   "cell_type": "code",
   "execution_count": 27,
   "metadata": {},
   "outputs": [
    {
     "data": {
      "text/html": [
       "<div>\n",
       "<style scoped>\n",
       "    .dataframe tbody tr th:only-of-type {\n",
       "        vertical-align: middle;\n",
       "    }\n",
       "\n",
       "    .dataframe tbody tr th {\n",
       "        vertical-align: top;\n",
       "    }\n",
       "\n",
       "    .dataframe thead th {\n",
       "        text-align: right;\n",
       "    }\n",
       "</style>\n",
       "<table border=\"1\" class=\"dataframe\">\n",
       "  <thead>\n",
       "    <tr style=\"text-align: right;\">\n",
       "      <th></th>\n",
       "      <th>Medal</th>\n",
       "    </tr>\n",
       "    <tr>\n",
       "      <th>Sport</th>\n",
       "      <th></th>\n",
       "    </tr>\n",
       "  </thead>\n",
       "  <tbody>\n",
       "    <tr>\n",
       "      <th>Aquatics</th>\n",
       "      <td>589</td>\n",
       "    </tr>\n",
       "    <tr>\n",
       "      <th>Athletics</th>\n",
       "      <td>389</td>\n",
       "    </tr>\n",
       "    <tr>\n",
       "      <th>Gymnastics</th>\n",
       "      <td>268</td>\n",
       "    </tr>\n",
       "    <tr>\n",
       "      <th>Rowing</th>\n",
       "      <td>217</td>\n",
       "    </tr>\n",
       "    <tr>\n",
       "      <th>Volleyball</th>\n",
       "      <td>166</td>\n",
       "    </tr>\n",
       "  </tbody>\n",
       "</table>\n",
       "</div>"
      ],
      "text/plain": [
       "            Medal\n",
       "Sport            \n",
       "Aquatics      589\n",
       "Athletics     389\n",
       "Gymnastics    268\n",
       "Rowing        217\n",
       "Volleyball    166"
      ]
     },
     "execution_count": 27,
     "metadata": {},
     "output_type": "execute_result"
    }
   ],
   "source": [
    "pd.DataFrame(d.groupby(\"Sport\")[\"Medal\"].count()).sort_values(by=\"Medal\",ascending=False).head()"
   ]
  },
  {
   "cell_type": "code",
   "execution_count": null,
   "metadata": {},
   "outputs": [],
   "source": []
  }
 ],
 "metadata": {
  "kernelspec": {
   "display_name": "Python 3",
   "language": "python",
   "name": "python3"
  },
  "language_info": {
   "codemirror_mode": {
    "name": "ipython",
    "version": 3
   },
   "file_extension": ".py",
   "mimetype": "text/x-python",
   "name": "python",
   "nbconvert_exporter": "python",
   "pygments_lexer": "ipython3",
   "version": "3.7.4"
  }
 },
 "nbformat": 4,
 "nbformat_minor": 4
}
